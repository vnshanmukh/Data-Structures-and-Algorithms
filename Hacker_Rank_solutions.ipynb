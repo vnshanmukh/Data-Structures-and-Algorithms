{
  "nbformat": 4,
  "nbformat_minor": 0,
  "metadata": {
    "colab": {
      "name": "Hacker_Rank_solutions",
      "provenance": [],
      "collapsed_sections": [],
      "authorship_tag": "ABX9TyNbDjMyg9FiKIs2Di4cgeBA"
    },
    "kernelspec": {
      "name": "python3",
      "display_name": "Python 3"
    }
  },
  "cells": [
    {
      "cell_type": "markdown",
      "metadata": {
        "id": "POY6ZrQSQVVv"
      },
      "source": [
        "**Say \"Hello, World!\" With Python**"
      ]
    },
    {
      "cell_type": "code",
      "metadata": {
        "id": "Xb6gTC4cQOm8"
      },
      "source": [
        "if __name__ == '__main__':\n",
        "    print (\"Hello, World!\")"
      ],
      "execution_count": null,
      "outputs": []
    },
    {
      "cell_type": "markdown",
      "metadata": {
        "id": "wm8K8tYdQmAt"
      },
      "source": [
        "**Arithmetic Operators**\n",
        "\n",
        "\n",
        "\n",
        "\n",
        "\n"
      ]
    },
    {
      "cell_type": "code",
      "metadata": {
        "id": "wZU8peQGQwvY"
      },
      "source": [
        "if __name__ == '__main__':\n",
        "    a = int(input())\n",
        "    b = int(input())\n",
        "    k=a+b;\n",
        "    l=a-b;\n",
        "    m=a*b;\n",
        "    print(k)\n",
        "    print(l)\n",
        "    print(m)\n",
        "\n"
      ],
      "execution_count": null,
      "outputs": []
    },
    {
      "cell_type": "markdown",
      "metadata": {
        "id": "A7jXw1oVQ5zp"
      },
      "source": [
        "**Python: Division**"
      ]
    },
    {
      "cell_type": "code",
      "metadata": {
        "id": "Wdjv8rfkRIO_"
      },
      "source": [
        "if __name__ == '__main__':\n",
        "    a = int(input())\n",
        "    b = int(input())\n",
        "    k=a/b;\n",
        "    print(int(k))\n",
        "    print(float(k))\n"
      ],
      "execution_count": null,
      "outputs": []
    },
    {
      "cell_type": "markdown",
      "metadata": {
        "id": "-PTcQZb_RNlI"
      },
      "source": [
        "**Loops**"
      ]
    },
    {
      "cell_type": "code",
      "metadata": {
        "id": "OviN-UrBRS1c"
      },
      "source": [
        "if __name__ == '__main__':\n",
        "    n = int(input())\n",
        "    for i in range(0,n):\n",
        "        k=i*i;\n",
        "        print(k)"
      ],
      "execution_count": null,
      "outputs": []
    },
    {
      "cell_type": "markdown",
      "metadata": {
        "id": "sR9mIyDkRWsI"
      },
      "source": [
        "**Write a function**\n"
      ]
    },
    {
      "cell_type": "code",
      "metadata": {
        "id": "k3uEErGkRosS"
      },
      "source": [
        "def is_leap(year):\n",
        "    leap = False\n",
        "    if year % 400 == 0:\n",
        "        leap = True\n",
        "    elif year % 100 == 0:\n",
        "        leap = False\n",
        "    elif year % 4 == 0:\n",
        "        leap = True\n",
        "    \n",
        "    return leap"
      ],
      "execution_count": null,
      "outputs": []
    },
    {
      "cell_type": "markdown",
      "metadata": {
        "id": "LS-iNoPKRtos"
      },
      "source": [
        "**Print Function**"
      ]
    },
    {
      "cell_type": "code",
      "metadata": {
        "id": "OwyXPp2uRz_3"
      },
      "source": [
        "if __name__ == '__main__':\n",
        "    n = int(input())\n",
        "    for i in range(1,n+1):\n",
        "        print(i,end=\"\")"
      ],
      "execution_count": null,
      "outputs": []
    },
    {
      "cell_type": "markdown",
      "metadata": {
        "id": "gkqMBtVoR40V"
      },
      "source": [
        "**List Comprehensions**"
      ]
    },
    {
      "cell_type": "code",
      "metadata": {
        "id": "iyWvEdSGSG5_"
      },
      "source": [
        "if __name__ == '__main__':\n",
        "    x = int(input())\n",
        "    y = int(input())\n",
        "    z = int(input())\n",
        "    n = int(input())\n",
        "    ar=[]\n",
        "    p=0\n",
        "for i in range(x+1):\n",
        "    for j in range(y+1):\n",
        "        for k in range(z+1):\n",
        "            if i+j+k!=n:\n",
        "                ar.append([])\n",
        "                ar[p]=[i,j,k]\n",
        "                p+=1\n",
        "print(ar)"
      ],
      "execution_count": null,
      "outputs": []
    },
    {
      "cell_type": "markdown",
      "metadata": {
        "id": "JJ5hYjkFXEBg"
      },
      "source": [
        "**Find the Runner-Up Score!**"
      ]
    },
    {
      "cell_type": "code",
      "metadata": {
        "id": "p3tCsj_UXGbY"
      },
      "source": [
        "if __name__ == '__main__':\n",
        "    n = int(input())\n",
        "    arr = list(map(int, input().split()))\n",
        "    arr=list(set(arr))\n",
        "    ar=len(arr)\n",
        "    arr=sorted(arr)\n",
        "    print(arr[ar-2])"
      ],
      "execution_count": null,
      "outputs": []
    },
    {
      "cell_type": "markdown",
      "metadata": {
        "id": "CO3_z9EsxkOw"
      },
      "source": [
        "**Finding the percentage**"
      ]
    },
    {
      "cell_type": "code",
      "metadata": {
        "id": "K9ECQdz1xtt6"
      },
      "source": [
        "if __name__ == '__main__':\n",
        "    n = int(input())\n",
        "    student_marks = {}\n",
        "    for _ in range(n):\n",
        "        name, *line = input().split()\n",
        "        scores = list(map(float, line))\n",
        "        student_marks[name] = scores\n",
        "    query_name = input()\n",
        "    query_scores = student_marks[query_name]\n",
        "    print(\"{0:.2f}\".format(sum(query_scores)/(len(query_scores))))\n"
      ],
      "execution_count": null,
      "outputs": []
    },
    {
      "cell_type": "markdown",
      "metadata": {
        "id": "P62lAKJLyAym"
      },
      "source": [
        "**Tuples**"
      ]
    },
    {
      "cell_type": "code",
      "metadata": {
        "id": "HneVUAWkyG5K"
      },
      "source": [
        "if __name__ == '__main__':\n",
        "    n = int(input())\n",
        "    integer_list = map(int, input().split())\n",
        "    print(hash(tuple(integer_list)))"
      ],
      "execution_count": null,
      "outputs": []
    },
    {
      "cell_type": "markdown",
      "metadata": {
        "id": "3LSTpiuEyVtk"
      },
      "source": [
        "**sWAP cASE**"
      ]
    },
    {
      "cell_type": "code",
      "metadata": {
        "id": "jke3khSYydhS"
      },
      "source": [
        "def swap_case(s):\n",
        "    k=s.swapcase()\n",
        "    return k"
      ],
      "execution_count": null,
      "outputs": []
    },
    {
      "cell_type": "markdown",
      "metadata": {
        "id": "T-Qtqu6Wyh9p"
      },
      "source": [
        "**String Split and Join**"
      ]
    },
    {
      "cell_type": "code",
      "metadata": {
        "id": "vMDV1_J4ywLm"
      },
      "source": [
        "def split_and_join(line):\n",
        "    k=line.split(\" \")\n",
        "    l=\"-\".join(k)\n",
        "    return l"
      ],
      "execution_count": null,
      "outputs": []
    }
  ]
}