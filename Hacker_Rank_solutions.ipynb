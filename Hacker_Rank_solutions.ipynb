{
  "nbformat": 4,
  "nbformat_minor": 0,
  "metadata": {
    "colab": {
      "name": "Hacker_Rank_solutions",
      "provenance": [],
      "collapsed_sections": [],
      "authorship_tag": "ABX9TyN40E7yco3unJQWBB1NMRNV"
    },
    "kernelspec": {
      "name": "python3",
      "display_name": "Python 3"
    }
  },
  "cells": [
    {
      "cell_type": "markdown",
      "metadata": {
        "id": "POY6ZrQSQVVv"
      },
      "source": [
        "**Say \"Hello, World!\" With Python**"
      ]
    },
    {
      "cell_type": "code",
      "metadata": {
        "id": "Xb6gTC4cQOm8"
      },
      "source": [
        "if __name__ == '__main__':\n",
        "    print (\"Hello, World!\")"
      ],
      "execution_count": null,
      "outputs": []
    },
    {
      "cell_type": "markdown",
      "metadata": {
        "id": "wm8K8tYdQmAt"
      },
      "source": [
        "**Arithmetic Operators**\n",
        "\n",
        "\n",
        "\n",
        "\n",
        "\n"
      ]
    },
    {
      "cell_type": "code",
      "metadata": {
        "id": "wZU8peQGQwvY"
      },
      "source": [
        "if __name__ == '__main__':\n",
        "    a = int(input())\n",
        "    b = int(input())\n",
        "    k=a+b;\n",
        "    l=a-b;\n",
        "    m=a*b;\n",
        "    print(k)\n",
        "    print(l)\n",
        "    print(m)\n",
        "\n"
      ],
      "execution_count": null,
      "outputs": []
    },
    {
      "cell_type": "markdown",
      "metadata": {
        "id": "A7jXw1oVQ5zp"
      },
      "source": [
        "**Python: Division**"
      ]
    },
    {
      "cell_type": "code",
      "metadata": {
        "id": "Wdjv8rfkRIO_"
      },
      "source": [
        "if __name__ == '__main__':\n",
        "    a = int(input())\n",
        "    b = int(input())\n",
        "    k=a/b;\n",
        "    print(int(k))\n",
        "    print(float(k))\n"
      ],
      "execution_count": null,
      "outputs": []
    },
    {
      "cell_type": "markdown",
      "metadata": {
        "id": "-PTcQZb_RNlI"
      },
      "source": [
        "**Loops**"
      ]
    },
    {
      "cell_type": "code",
      "metadata": {
        "id": "OviN-UrBRS1c"
      },
      "source": [
        "if __name__ == '__main__':\n",
        "    n = int(input())\n",
        "    for i in range(0,n):\n",
        "        k=i*i;\n",
        "        print(k)"
      ],
      "execution_count": null,
      "outputs": []
    },
    {
      "cell_type": "markdown",
      "metadata": {
        "id": "sR9mIyDkRWsI"
      },
      "source": [
        "**Write a function**\n"
      ]
    },
    {
      "cell_type": "code",
      "metadata": {
        "id": "k3uEErGkRosS"
      },
      "source": [
        "def is_leap(year):\n",
        "    leap = False\n",
        "    if year % 400 == 0:\n",
        "        leap = True\n",
        "    elif year % 100 == 0:\n",
        "        leap = False\n",
        "    elif year % 4 == 0:\n",
        "        leap = True\n",
        "    \n",
        "    return leap"
      ],
      "execution_count": null,
      "outputs": []
    },
    {
      "cell_type": "markdown",
      "metadata": {
        "id": "LS-iNoPKRtos"
      },
      "source": [
        "**Print Function**"
      ]
    },
    {
      "cell_type": "code",
      "metadata": {
        "id": "OwyXPp2uRz_3"
      },
      "source": [
        "if __name__ == '__main__':\n",
        "    n = int(input())\n",
        "    for i in range(1,n+1):\n",
        "        print(i,end=\"\")"
      ],
      "execution_count": null,
      "outputs": []
    },
    {
      "cell_type": "markdown",
      "metadata": {
        "id": "gkqMBtVoR40V"
      },
      "source": [
        "**List Comprehensions**"
      ]
    },
    {
      "cell_type": "code",
      "metadata": {
        "id": "iyWvEdSGSG5_"
      },
      "source": [
        "if __name__ == '__main__':\n",
        "    x = int(input())\n",
        "    y = int(input())\n",
        "    z = int(input())\n",
        "    n = int(input())\n",
        "    ar=[]\n",
        "    p=0\n",
        "for i in range(x+1):\n",
        "    for j in range(y+1):\n",
        "        for k in range(z+1):\n",
        "            if i+j+k!=n:\n",
        "                ar.append([])\n",
        "                ar[p]=[i,j,k]\n",
        "                p+=1\n",
        "print(ar)"
      ],
      "execution_count": null,
      "outputs": []
    },
    {
      "cell_type": "markdown",
      "metadata": {
        "id": "JJ5hYjkFXEBg"
      },
      "source": [
        "**Find the Runner-Up Score!**"
      ]
    },
    {
      "cell_type": "code",
      "metadata": {
        "id": "p3tCsj_UXGbY"
      },
      "source": [
        "if __name__ == '__main__':\n",
        "    n = int(input())\n",
        "    arr = list(map(int, input().split()))\n",
        "    arr=list(set(arr))\n",
        "    ar=len(arr)\n",
        "    arr=sorted(arr)\n",
        "    print(arr[ar-2])"
      ],
      "execution_count": null,
      "outputs": []
    },
    {
      "cell_type": "markdown",
      "metadata": {
        "id": "CO3_z9EsxkOw"
      },
      "source": [
        "**Finding the percentage**"
      ]
    },
    {
      "cell_type": "code",
      "metadata": {
        "id": "K9ECQdz1xtt6"
      },
      "source": [
        "if __name__ == '__main__':\n",
        "    n = int(input())\n",
        "    student_marks = {}\n",
        "    for _ in range(n):\n",
        "        name, *line = input().split()\n",
        "        scores = list(map(float, line))\n",
        "        student_marks[name] = scores\n",
        "    query_name = input()\n",
        "    query_scores = student_marks[query_name]\n",
        "    print(\"{0:.2f}\".format(sum(query_scores)/(len(query_scores))))\n"
      ],
      "execution_count": null,
      "outputs": []
    },
    {
      "cell_type": "markdown",
      "metadata": {
        "id": "P62lAKJLyAym"
      },
      "source": [
        "**Tuples**"
      ]
    },
    {
      "cell_type": "code",
      "metadata": {
        "id": "HneVUAWkyG5K"
      },
      "source": [
        "if __name__ == '__main__':\n",
        "    n = int(input())\n",
        "    integer_list = map(int, input().split())\n",
        "    print(hash(tuple(integer_list)))"
      ],
      "execution_count": null,
      "outputs": []
    },
    {
      "cell_type": "markdown",
      "metadata": {
        "id": "3LSTpiuEyVtk"
      },
      "source": [
        "**sWAP cASE**"
      ]
    },
    {
      "cell_type": "code",
      "metadata": {
        "id": "jke3khSYydhS"
      },
      "source": [
        "def swap_case(s):\n",
        "    k=s.swapcase()\n",
        "    return k"
      ],
      "execution_count": null,
      "outputs": []
    },
    {
      "cell_type": "markdown",
      "metadata": {
        "id": "T-Qtqu6Wyh9p"
      },
      "source": [
        "**String Split and Join**"
      ]
    },
    {
      "cell_type": "code",
      "metadata": {
        "id": "vMDV1_J4ywLm"
      },
      "source": [
        "def split_and_join(line):\n",
        "    k=line.split(\" \")\n",
        "    l=\"-\".join(k)\n",
        "    return l"
      ],
      "execution_count": null,
      "outputs": []
    },
    {
      "cell_type": "markdown",
      "metadata": {
        "id": "_rFCugPqBumY"
      },
      "source": [
        "**What's Your Name?**"
      ]
    },
    {
      "cell_type": "code",
      "metadata": {
        "id": "anzv76okB0wK"
      },
      "source": [
        "def print_full_name(a, b):\n",
        "    k='Hello' +\" \"+a +\" \"+ b + '! You just delved into python.'\n",
        "    print(k)"
      ],
      "execution_count": null,
      "outputs": []
    },
    {
      "cell_type": "markdown",
      "metadata": {
        "id": "ArJ0767MB41i"
      },
      "source": [
        "**Mutations**\n"
      ]
    },
    {
      "cell_type": "code",
      "metadata": {
        "id": "gx25TQ_DB-kc"
      },
      "source": [
        "def mutate_string(string, p, character):\n",
        "    \n",
        "    k=string[:p]+ c +string[p+1:]\n",
        "\n",
        "    return k\n"
      ],
      "execution_count": null,
      "outputs": []
    },
    {
      "cell_type": "markdown",
      "metadata": {
        "id": "gRgcfBp4CUsJ"
      },
      "source": [
        "**Find a string**\n"
      ]
    },
    {
      "cell_type": "code",
      "metadata": {
        "id": "fq8q6Z5bCXME"
      },
      "source": [
        "def count_substring(s, sub_s):\n",
        "    count=0\n",
        "    l=len(s)\n",
        "    for i in range(0,l):\n",
        "        if s[i:i+len(sub_s)] == sub_s:\n",
        "            count=count+1\n",
        "    return count\n",
        "\n"
      ],
      "execution_count": null,
      "outputs": []
    },
    {
      "cell_type": "markdown",
      "metadata": {
        "id": "s8_HkyixCao0"
      },
      "source": [
        "**Text Alignment**"
      ]
    },
    {
      "cell_type": "code",
      "metadata": {
        "id": "nTCHeocgCh8F"
      },
      "source": [
        "#Replace all ______ with rjust, ljust or center. \n",
        "\n",
        "thickness = int(input()) #This must be an odd number\n",
        "c = 'H'\n",
        "\n",
        "#Top Cone\n",
        "for i in range(thickness):\n",
        "    print((c*i).rjust(thickness-1)+c+(c*i).ljust(thickness-1))\n",
        "\n",
        "#Top Pillars\n",
        "for i in range(thickness+1):\n",
        "    print((c*thickness).center(thickness*2)+(c*thickness).center(thickness*6))\n",
        "\n",
        "#Middle Belt\n",
        "for i in range((thickness+1)//2):\n",
        "    print((c*thickness*5).center(thickness*6))    \n",
        "\n",
        "#Bottom Pillars\n",
        "for i in range(thickness+1):\n",
        "    print((c*thickness).center(thickness*2)+(c*thickness).center(thickness*6))    \n",
        "\n",
        "#Bottom Cone\n",
        "for i in range(thickness):\n",
        "    print(((c*(thickness-i-1)).rjust(thickness)+c+(c*(thickness-i-1)).ljust(thickness)).rjust(thickness*6))\n"
      ],
      "execution_count": null,
      "outputs": []
    },
    {
      "cell_type": "markdown",
      "metadata": {
        "id": "fhwMHYolqk0o"
      },
      "source": [
        "**Text Wrap**\n"
      ]
    },
    {
      "cell_type": "code",
      "metadata": {
        "id": "TLy75fkcqm5U"
      },
      "source": [
        "\n",
        "\n",
        "def wrap(string, max_width):\n",
        "    k=textwrap.fill(string,max_width)\n",
        "    return k\n",
        "\n"
      ],
      "execution_count": null,
      "outputs": []
    },
    {
      "cell_type": "markdown",
      "metadata": {
        "id": "rcxtCvp-qtKE"
      },
      "source": [
        "**Designer Door Mat**\n"
      ]
    },
    {
      "cell_type": "code",
      "metadata": {
        "id": "6bYSfPbZqzgm"
      },
      "source": [
        "n,m=list(map(int,input().split()))\n",
        "for i in range(1,n,2):\n",
        "    print(('.|.'*i).center(m,'-'))\n",
        "print(('WELCOME').center(m,'-'))\n",
        "for i in range(n-2,-1,-2):\n",
        "     print(('.|.'*i).center(m,'-'))\n"
      ],
      "execution_count": null,
      "outputs": []
    },
    {
      "cell_type": "markdown",
      "metadata": {
        "id": "z18qqrutq30e"
      },
      "source": [
        "**Capitalize!**"
      ]
    },
    {
      "cell_type": "code",
      "metadata": {
        "id": "kpdq7Ocy-_Bj"
      },
      "source": [
        "\n",
        "\n",
        "# Complete the solve function below.\n",
        "def solve(s):\n",
        "    p=list(s)\n",
        "    for i in range(len(p)):\n",
        "        if(i==0 and p[i].isalpha()):\n",
        "            p[i]=p[i].capitalize()\n",
        "        if(p[i].isspace() and p[i+1].isalpha()):\n",
        "            p[i+1]=p[i+1].capitalize()\n",
        "            i+=1\n",
        "    k=\"\".join(p)\n",
        "    return(k)\n",
        "\n"
      ],
      "execution_count": null,
      "outputs": []
    },
    {
      "cell_type": "markdown",
      "metadata": {
        "id": "hikkDmNn_B9P"
      },
      "source": [
        "**Polar Coordinates**"
      ]
    },
    {
      "cell_type": "code",
      "metadata": {
        "id": "0mV0F3td_Kee"
      },
      "source": [
        "from cmath import sqrt,phase\n",
        "c=complex(input())\n",
        "print (sqrt(pow(c.real,2)+pow(c.imag,2)).real)\n",
        "print (phase(complex(c.real,c.imag)))"
      ],
      "execution_count": null,
      "outputs": []
    },
    {
      "cell_type": "markdown",
      "metadata": {
        "id": "4d6QnSHG_VD8"
      },
      "source": [
        "**Introduction to Sets**"
      ]
    },
    {
      "cell_type": "code",
      "metadata": {
        "id": "45AnY6hG_cxi"
      },
      "source": [
        "def average(array):\n",
        "    # your code goes here\n",
        "    s=list(set(arr))\n",
        "    k=sum(s)/len(s)\n",
        "    return k"
      ],
      "execution_count": null,
      "outputs": []
    },
    {
      "cell_type": "markdown",
      "metadata": {
        "id": "10AtQkGI_gIc"
      },
      "source": [
        "**No Idea!**"
      ]
    },
    {
      "cell_type": "code",
      "metadata": {
        "id": "duVZKPCB_m8l"
      },
      "source": [
        "n,m=map(int,input().split())\n",
        "c=map(int,input().split())\n",
        "a=set(map(int,input().split()))\n",
        "b=set(map(int,input().split()))\n",
        "h=0\n",
        "for i in c:\n",
        "    if i in a:\n",
        "        h=h+1\n",
        "    elif i in b:\n",
        "        h=h-1\n",
        "print(h)"
      ],
      "execution_count": null,
      "outputs": []
    },
    {
      "cell_type": "markdown",
      "metadata": {
        "id": "1tRxe3xf_zXy"
      },
      "source": [
        "**Set .add()**"
      ]
    },
    {
      "cell_type": "code",
      "metadata": {
        "id": "H-NcusSm_7QW"
      },
      "source": [
        "n=int(input())\n",
        "b=set()\n",
        "for i in range(n):\n",
        "    b.add(input())\n",
        "l=len(b)\n",
        "print(l)"
      ],
      "execution_count": null,
      "outputs": []
    },
    {
      "cell_type": "markdown",
      "metadata": {
        "id": "UZr5pFrnAFNx"
      },
      "source": [
        "**Symmetric Difference**"
      ]
    },
    {
      "cell_type": "code",
      "metadata": {
        "id": "aK-Piqj_ANbD"
      },
      "source": [
        "m = int(input())\n",
        "l = set(map(int,input().split()))\n",
        "n = int(input())\n",
        "k = set(map(int,input().split()))\n",
        "\n",
        "c=l.symmetric_difference(k)\n",
        "for i in sorted(c):\n",
        "    print(i)\n"
      ],
      "execution_count": null,
      "outputs": []
    },
    {
      "cell_type": "markdown",
      "metadata": {
        "id": "GzzyyXBcA6vu"
      },
      "source": [
        "**Set .discard(), .remove() & .pop()**"
      ]
    },
    {
      "cell_type": "code",
      "metadata": {
        "id": "PXCCYJdOA7UV"
      },
      "source": [
        "n = int(input())\n",
        "s = set(map(int, input().split()))\n",
        "a = int(input())\n",
        "for i in range(a):\n",
        "    k=[]\n",
        "    k=input().split()\n",
        "    if k[0] == 'pop':\n",
        "        s.pop()\n",
        "    elif k[0] == 'remove':\n",
        "        s.remove(int(k[1]))\n",
        "    elif k[0] == 'discard':\n",
        "        s.discard(int(k[1]))\n",
        "    else:\n",
        "        print(\"not a command\")    \n",
        "print(sum(s))   "
      ],
      "execution_count": null,
      "outputs": []
    }
  ]
}