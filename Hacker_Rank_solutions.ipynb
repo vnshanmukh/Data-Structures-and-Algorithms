{
  "nbformat": 4,
  "nbformat_minor": 2,
  "metadata": {
    "colab": {
      "name": "Hacker_Rank_solutions",
      "provenance": [],
      "collapsed_sections": [],
      "authorship_tag": "ABX9TyN40E7yco3unJQWBB1NMRNV"
    },
    "kernelspec": {
      "name": "python3",
      "display_name": "Python 3"
    }
  },
  "cells": [
    {
      "cell_type": "markdown",
      "source": [
        "**Say \"Hello, World!\" With Python**"
      ],
      "metadata": {
        "id": "POY6ZrQSQVVv"
      }
    },
    {
      "cell_type": "code",
      "execution_count": null,
      "source": [
        "if __name__ == '__main__':\r\n",
        "    print (\"Hello, World!\")"
      ],
      "outputs": [],
      "metadata": {
        "id": "Xb6gTC4cQOm8"
      }
    },
    {
      "cell_type": "markdown",
      "source": [
        "**Arithmetic Operators**\n",
        "\n",
        "\n",
        "\n",
        "\n",
        "\n"
      ],
      "metadata": {
        "id": "wm8K8tYdQmAt"
      }
    },
    {
      "cell_type": "code",
      "execution_count": null,
      "source": [
        "if __name__ == '__main__':\r\n",
        "    a = int(input())\r\n",
        "    b = int(input())\r\n",
        "    k=a+b;\r\n",
        "    l=a-b;\r\n",
        "    m=a*b;\r\n",
        "    print(k)\r\n",
        "    print(l)\r\n",
        "    print(m)\r\n",
        "\r\n"
      ],
      "outputs": [],
      "metadata": {
        "id": "wZU8peQGQwvY"
      }
    },
    {
      "cell_type": "markdown",
      "source": [
        "**Python: Division**"
      ],
      "metadata": {
        "id": "A7jXw1oVQ5zp"
      }
    },
    {
      "cell_type": "code",
      "execution_count": null,
      "source": [
        "if __name__ == '__main__':\r\n",
        "    a = int(input())\r\n",
        "    b = int(input())\r\n",
        "    k=a/b;\r\n",
        "    print(int(k))\r\n",
        "    print(float(k))\r\n"
      ],
      "outputs": [],
      "metadata": {
        "id": "Wdjv8rfkRIO_"
      }
    },
    {
      "cell_type": "markdown",
      "source": [
        "**Loops**"
      ],
      "metadata": {
        "id": "-PTcQZb_RNlI"
      }
    },
    {
      "cell_type": "code",
      "execution_count": null,
      "source": [
        "if __name__ == '__main__':\r\n",
        "    n = int(input())\r\n",
        "    for i in range(0,n):\r\n",
        "        k=i*i;\r\n",
        "        print(k)"
      ],
      "outputs": [],
      "metadata": {
        "id": "OviN-UrBRS1c"
      }
    },
    {
      "cell_type": "markdown",
      "source": [
        "**Write a function**\n"
      ],
      "metadata": {
        "id": "sR9mIyDkRWsI"
      }
    },
    {
      "cell_type": "code",
      "execution_count": null,
      "source": [
        "def is_leap(year):\r\n",
        "    leap = False\r\n",
        "    if year % 400 == 0:\r\n",
        "        leap = True\r\n",
        "    elif year % 100 == 0:\r\n",
        "        leap = False\r\n",
        "    elif year % 4 == 0:\r\n",
        "        leap = True\r\n",
        "    \r\n",
        "    return leap"
      ],
      "outputs": [],
      "metadata": {
        "id": "k3uEErGkRosS"
      }
    },
    {
      "cell_type": "markdown",
      "source": [
        "**Print Function**"
      ],
      "metadata": {
        "id": "LS-iNoPKRtos"
      }
    },
    {
      "cell_type": "code",
      "execution_count": null,
      "source": [
        "if __name__ == '__main__':\r\n",
        "    n = int(input())\r\n",
        "    for i in range(1,n+1):\r\n",
        "        print(i,end=\"\")"
      ],
      "outputs": [],
      "metadata": {
        "id": "OwyXPp2uRz_3"
      }
    },
    {
      "cell_type": "markdown",
      "source": [
        "**List Comprehensions**"
      ],
      "metadata": {
        "id": "gkqMBtVoR40V"
      }
    },
    {
      "cell_type": "code",
      "execution_count": null,
      "source": [
        "if __name__ == '__main__':\r\n",
        "    x = int(input())\r\n",
        "    y = int(input())\r\n",
        "    z = int(input())\r\n",
        "    n = int(input())\r\n",
        "    ar=[]\r\n",
        "    p=0\r\n",
        "for i in range(x+1):\r\n",
        "    for j in range(y+1):\r\n",
        "        for k in range(z+1):\r\n",
        "            if i+j+k!=n:\r\n",
        "                ar.append([])\r\n",
        "                ar[p]=[i,j,k]\r\n",
        "                p+=1\r\n",
        "print(ar)"
      ],
      "outputs": [],
      "metadata": {
        "id": "iyWvEdSGSG5_"
      }
    },
    {
      "cell_type": "markdown",
      "source": [
        "**Find the Runner-Up Score!**"
      ],
      "metadata": {
        "id": "JJ5hYjkFXEBg"
      }
    },
    {
      "cell_type": "code",
      "execution_count": null,
      "source": [
        "if __name__ == '__main__':\r\n",
        "    n = int(input())\r\n",
        "    arr = list(map(int, input().split()))\r\n",
        "    arr=list(set(arr))\r\n",
        "    ar=len(arr)\r\n",
        "    arr=sorted(arr)\r\n",
        "    print(arr[ar-2])"
      ],
      "outputs": [],
      "metadata": {
        "id": "p3tCsj_UXGbY"
      }
    },
    {
      "cell_type": "markdown",
      "source": [
        "**Finding the percentage**"
      ],
      "metadata": {
        "id": "CO3_z9EsxkOw"
      }
    },
    {
      "cell_type": "code",
      "execution_count": null,
      "source": [
        "if __name__ == '__main__':\r\n",
        "    n = int(input())\r\n",
        "    student_marks = {}\r\n",
        "    for _ in range(n):\r\n",
        "        name, *line = input().split()\r\n",
        "        scores = list(map(float, line))\r\n",
        "        student_marks[name] = scores\r\n",
        "    query_name = input()\r\n",
        "    query_scores = student_marks[query_name]\r\n",
        "    print(\"{0:.2f}\".format(sum(query_scores)/(len(query_scores))))\r\n"
      ],
      "outputs": [],
      "metadata": {
        "id": "K9ECQdz1xtt6"
      }
    },
    {
      "cell_type": "markdown",
      "source": [
        "**Tuples**"
      ],
      "metadata": {
        "id": "P62lAKJLyAym"
      }
    },
    {
      "cell_type": "code",
      "execution_count": null,
      "source": [
        "if __name__ == '__main__':\r\n",
        "    n = int(input())\r\n",
        "    integer_list = map(int, input().split())\r\n",
        "    print(hash(tuple(integer_list)))"
      ],
      "outputs": [],
      "metadata": {
        "id": "HneVUAWkyG5K"
      }
    },
    {
      "cell_type": "markdown",
      "source": [
        "**sWAP cASE**"
      ],
      "metadata": {
        "id": "3LSTpiuEyVtk"
      }
    },
    {
      "cell_type": "code",
      "execution_count": null,
      "source": [
        "def swap_case(s):\r\n",
        "    k=s.swapcase()\r\n",
        "    return k"
      ],
      "outputs": [],
      "metadata": {
        "id": "jke3khSYydhS"
      }
    },
    {
      "cell_type": "markdown",
      "source": [
        "**String Split and Join**"
      ],
      "metadata": {
        "id": "T-Qtqu6Wyh9p"
      }
    },
    {
      "cell_type": "code",
      "execution_count": null,
      "source": [
        "def split_and_join(line):\r\n",
        "    k=line.split(\" \")\r\n",
        "    l=\"-\".join(k)\r\n",
        "    return l"
      ],
      "outputs": [],
      "metadata": {
        "id": "vMDV1_J4ywLm"
      }
    },
    {
      "cell_type": "markdown",
      "source": [
        "**What's Your Name?**"
      ],
      "metadata": {
        "id": "_rFCugPqBumY"
      }
    },
    {
      "cell_type": "code",
      "execution_count": null,
      "source": [
        "def print_full_name(a, b):\r\n",
        "    k='Hello' +\" \"+a +\" \"+ b + '! You just delved into python.'\r\n",
        "    print(k)"
      ],
      "outputs": [],
      "metadata": {
        "id": "anzv76okB0wK"
      }
    },
    {
      "cell_type": "markdown",
      "source": [
        "**Mutations**\n"
      ],
      "metadata": {
        "id": "ArJ0767MB41i"
      }
    },
    {
      "cell_type": "code",
      "execution_count": null,
      "source": [
        "def mutate_string(string, p, character):\r\n",
        "    \r\n",
        "    k=string[:p]+ c +string[p+1:]\r\n",
        "\r\n",
        "    return k\r\n"
      ],
      "outputs": [],
      "metadata": {
        "id": "gx25TQ_DB-kc"
      }
    },
    {
      "cell_type": "markdown",
      "source": [
        "**Find a string**\n"
      ],
      "metadata": {
        "id": "gRgcfBp4CUsJ"
      }
    },
    {
      "cell_type": "code",
      "execution_count": null,
      "source": [
        "def count_substring(s, sub_s):\r\n",
        "    count=0\r\n",
        "    l=len(s)\r\n",
        "    for i in range(0,l):\r\n",
        "        if s[i:i+len(sub_s)] == sub_s:\r\n",
        "            count=count+1\r\n",
        "    return count\r\n",
        "\r\n"
      ],
      "outputs": [],
      "metadata": {
        "id": "fq8q6Z5bCXME"
      }
    },
    {
      "cell_type": "markdown",
      "source": [
        "**Text Alignment**"
      ],
      "metadata": {
        "id": "s8_HkyixCao0"
      }
    },
    {
      "cell_type": "code",
      "execution_count": null,
      "source": [
        "#Replace all ______ with rjust, ljust or center. \r\n",
        "\r\n",
        "thickness = int(input()) #This must be an odd number\r\n",
        "c = 'H'\r\n",
        "\r\n",
        "#Top Cone\r\n",
        "for i in range(thickness):\r\n",
        "    print((c*i).rjust(thickness-1)+c+(c*i).ljust(thickness-1))\r\n",
        "\r\n",
        "#Top Pillars\r\n",
        "for i in range(thickness+1):\r\n",
        "    print((c*thickness).center(thickness*2)+(c*thickness).center(thickness*6))\r\n",
        "\r\n",
        "#Middle Belt\r\n",
        "for i in range((thickness+1)//2):\r\n",
        "    print((c*thickness*5).center(thickness*6))    \r\n",
        "\r\n",
        "#Bottom Pillars\r\n",
        "for i in range(thickness+1):\r\n",
        "    print((c*thickness).center(thickness*2)+(c*thickness).center(thickness*6))    \r\n",
        "\r\n",
        "#Bottom Cone\r\n",
        "for i in range(thickness):\r\n",
        "    print(((c*(thickness-i-1)).rjust(thickness)+c+(c*(thickness-i-1)).ljust(thickness)).rjust(thickness*6))\r\n"
      ],
      "outputs": [],
      "metadata": {
        "id": "nTCHeocgCh8F"
      }
    },
    {
      "cell_type": "markdown",
      "source": [
        "**Text Wrap**\n"
      ],
      "metadata": {
        "id": "fhwMHYolqk0o"
      }
    },
    {
      "cell_type": "code",
      "execution_count": null,
      "source": [
        "\r\n",
        "\r\n",
        "def wrap(string, max_width):\r\n",
        "    k=textwrap.fill(string,max_width)\r\n",
        "    return k\r\n",
        "\r\n"
      ],
      "outputs": [],
      "metadata": {
        "id": "TLy75fkcqm5U"
      }
    },
    {
      "cell_type": "markdown",
      "source": [
        "**Designer Door Mat**\n"
      ],
      "metadata": {
        "id": "rcxtCvp-qtKE"
      }
    },
    {
      "cell_type": "code",
      "execution_count": null,
      "source": [
        "n,m=list(map(int,input().split()))\r\n",
        "for i in range(1,n,2):\r\n",
        "    print(('.|.'*i).center(m,'-'))\r\n",
        "print(('WELCOME').center(m,'-'))\r\n",
        "for i in range(n-2,-1,-2):\r\n",
        "     print(('.|.'*i).center(m,'-'))\r\n"
      ],
      "outputs": [],
      "metadata": {
        "id": "6bYSfPbZqzgm"
      }
    },
    {
      "cell_type": "markdown",
      "source": [
        "**Capitalize!**"
      ],
      "metadata": {
        "id": "z18qqrutq30e"
      }
    },
    {
      "cell_type": "code",
      "execution_count": null,
      "source": [
        "\r\n",
        "\r\n",
        "# Complete the solve function below.\r\n",
        "def solve(s):\r\n",
        "    p=list(s)\r\n",
        "    for i in range(len(p)):\r\n",
        "        if(i==0 and p[i].isalpha()):\r\n",
        "            p[i]=p[i].capitalize()\r\n",
        "        if(p[i].isspace() and p[i+1].isalpha()):\r\n",
        "            p[i+1]=p[i+1].capitalize()\r\n",
        "            i+=1\r\n",
        "    k=\"\".join(p)\r\n",
        "    return(k)\r\n",
        "\r\n"
      ],
      "outputs": [],
      "metadata": {
        "id": "kpdq7Ocy-_Bj"
      }
    },
    {
      "cell_type": "markdown",
      "source": [
        "**Polar Coordinates**"
      ],
      "metadata": {
        "id": "hikkDmNn_B9P"
      }
    },
    {
      "cell_type": "code",
      "execution_count": null,
      "source": [
        "from cmath import sqrt,phase\r\n",
        "c=complex(input())\r\n",
        "print (sqrt(pow(c.real,2)+pow(c.imag,2)).real)\r\n",
        "print (phase(complex(c.real,c.imag)))"
      ],
      "outputs": [],
      "metadata": {
        "id": "0mV0F3td_Kee"
      }
    },
    {
      "cell_type": "markdown",
      "source": [
        "**Introduction to Sets**"
      ],
      "metadata": {
        "id": "4d6QnSHG_VD8"
      }
    },
    {
      "cell_type": "code",
      "execution_count": null,
      "source": [
        "def average(array):\r\n",
        "    # your code goes here\r\n",
        "    s=list(set(arr))\r\n",
        "    k=sum(s)/len(s)\r\n",
        "    return k"
      ],
      "outputs": [],
      "metadata": {
        "id": "45AnY6hG_cxi"
      }
    },
    {
      "cell_type": "markdown",
      "source": [
        "**No Idea!**"
      ],
      "metadata": {
        "id": "10AtQkGI_gIc"
      }
    },
    {
      "cell_type": "code",
      "execution_count": null,
      "source": [
        "n,m=map(int,input().split())\r\n",
        "c=map(int,input().split())\r\n",
        "a=set(map(int,input().split()))\r\n",
        "b=set(map(int,input().split()))\r\n",
        "h=0\r\n",
        "for i in c:\r\n",
        "    if i in a:\r\n",
        "        h=h+1\r\n",
        "    elif i in b:\r\n",
        "        h=h-1\r\n",
        "print(h)"
      ],
      "outputs": [],
      "metadata": {
        "id": "duVZKPCB_m8l"
      }
    },
    {
      "cell_type": "markdown",
      "source": [
        "**Set .add()**"
      ],
      "metadata": {
        "id": "1tRxe3xf_zXy"
      }
    },
    {
      "cell_type": "code",
      "execution_count": null,
      "source": [
        "n=int(input())\r\n",
        "b=set()\r\n",
        "for i in range(n):\r\n",
        "    b.add(input())\r\n",
        "l=len(b)\r\n",
        "print(l)"
      ],
      "outputs": [],
      "metadata": {
        "id": "H-NcusSm_7QW"
      }
    },
    {
      "cell_type": "markdown",
      "source": [
        "**Symmetric Difference**"
      ],
      "metadata": {
        "id": "UZr5pFrnAFNx"
      }
    },
    {
      "cell_type": "code",
      "execution_count": null,
      "source": [
        "m = int(input())\r\n",
        "l = set(map(int,input().split()))\r\n",
        "n = int(input())\r\n",
        "k = set(map(int,input().split()))\r\n",
        "\r\n",
        "c=l.symmetric_difference(k)\r\n",
        "for i in sorted(c):\r\n",
        "    print(i)\r\n"
      ],
      "outputs": [],
      "metadata": {
        "id": "aK-Piqj_ANbD"
      }
    },
    {
      "cell_type": "markdown",
      "source": [
        "**Set .discard(), .remove() & .pop()**"
      ],
      "metadata": {
        "id": "GzzyyXBcA6vu"
      }
    },
    {
      "cell_type": "code",
      "execution_count": null,
      "source": [
        "n = int(input())\r\n",
        "s = set(map(int, input().split()))\r\n",
        "a = int(input())\r\n",
        "for i in range(a):\r\n",
        "    k=[]\r\n",
        "    k=input().split()\r\n",
        "    if k[0] == 'pop':\r\n",
        "        s.pop()\r\n",
        "    elif k[0] == 'remove':\r\n",
        "        s.remove(int(k[1]))\r\n",
        "    elif k[0] == 'discard':\r\n",
        "        s.discard(int(k[1]))\r\n",
        "    else:\r\n",
        "        print(\"not a command\")    \r\n",
        "print(sum(s))   "
      ],
      "outputs": [],
      "metadata": {
        "id": "PXCCYJdOA7UV"
      }
    },
    {
      "cell_type": "markdown",
      "source": [
        "**Set .union()**"
      ],
      "metadata": {}
    },
    {
      "cell_type": "code",
      "execution_count": null,
      "source": [
        "a=int(input())\r\n",
        "s=set(map(int,input().split()))\r\n",
        "b=int(input())\r\n",
        "s2=set(map(int,input().split()))\r\n",
        "s3=s.union(s2)\r\n",
        "print(len(s3))"
      ],
      "outputs": [],
      "metadata": {}
    },
    {
      "cell_type": "markdown",
      "source": [
        "**Triangle Quest 2**"
      ],
      "metadata": {}
    },
    {
      "cell_type": "code",
      "execution_count": null,
      "source": [
        "for i in range(1,int(input())+1): \r\n",
        "    print (((10**i-1)//9)**2)\r\n"
      ],
      "outputs": [],
      "metadata": {}
    },
    {
      "cell_type": "markdown",
      "source": [
        "**Set .intersection() Operation**"
      ],
      "metadata": {}
    },
    {
      "cell_type": "code",
      "execution_count": null,
      "source": [
        "a=int(input())\r\n",
        "s=set(map(int,input().split()))\r\n",
        "b=int(input())\r\n",
        "s2=set(map(int,input().split()))\r\n",
        "s3=s.intersection(s2)\r\n",
        "print(len(s3))"
      ],
      "outputs": [],
      "metadata": {}
    },
    {
      "cell_type": "markdown",
      "source": [
        "**Set .difference() Operation**"
      ],
      "metadata": {}
    },
    {
      "cell_type": "code",
      "execution_count": null,
      "source": [
        "a=int(input())\r\n",
        "s=set(map(int,input().split()))\r\n",
        "b=int(input())\r\n",
        "s2=set(map(int,input().split()))\r\n",
        "s3=s.difference(s2)\r\n",
        "print(len(s3))"
      ],
      "outputs": [],
      "metadata": {}
    },
    {
      "cell_type": "markdown",
      "source": [
        "**Set .symmetric_difference() Operation**"
      ],
      "metadata": {}
    },
    {
      "cell_type": "code",
      "execution_count": null,
      "source": [
        "a=int(input())\r\n",
        "s=set(map(int,input().split()))\r\n",
        "b=int(input())\r\n",
        "s2=set(map(int,input().split()))\r\n",
        "s3=s.symmetric_difference(s2)\r\n",
        "print(len(s3))"
      ],
      "outputs": [],
      "metadata": {}
    },
    {
      "cell_type": "markdown",
      "source": [
        "**Mod Divmod**"
      ],
      "metadata": {}
    },
    {
      "cell_type": "code",
      "execution_count": null,
      "source": [
        "a=int(input())\r\n",
        "b=int(input())\r\n",
        "c=a//b\r\n",
        "d=a%b\r\n",
        "e=divmod(a,b)\r\n",
        "print(c)\r\n",
        "print(d)\r\n",
        "print(e)"
      ],
      "outputs": [],
      "metadata": {}
    },
    {
      "cell_type": "markdown",
      "source": [
        "**Power - Mod Power**"
      ],
      "metadata": {}
    },
    {
      "cell_type": "code",
      "execution_count": null,
      "source": [
        "a=int(input())\r\n",
        "b=int(input())\r\n",
        "c=int(input())\r\n",
        "d=pow(a,b)\r\n",
        "e=pow(a,b,c)\r\n",
        "print(d)\r\n",
        "print(e)"
      ],
      "outputs": [],
      "metadata": {}
    },
    {
      "cell_type": "markdown",
      "source": [
        "**Integers Come In All Sizes**"
      ],
      "metadata": {}
    },
    {
      "cell_type": "code",
      "execution_count": null,
      "source": [
        "a=int(input())\r\n",
        "b=int(input())\r\n",
        "c=int(input())\r\n",
        "d=int(input())\r\n",
        "e=pow(a,b)+pow(c,d)\r\n",
        "print(e)"
      ],
      "outputs": [],
      "metadata": {}
    },
    {
      "cell_type": "markdown",
      "source": [
        "**Set Mutations**"
      ],
      "metadata": {}
    },
    {
      "cell_type": "code",
      "execution_count": null,
      "source": [
        "a=int(input())\r\n",
        "A=set(map(int,input().split()))\r\n",
        "c=int(input())\r\n",
        "for i in range(c):\r\n",
        "    k=input().split()\r\n",
        "    ktemp=set(map(int,input().split()))\r\n",
        "    if k[0] == 'update':\r\n",
        "        A.update(ktemp)\r\n",
        "    elif k[0] == 'intersection_update':\r\n",
        "        A.intersection_update(ktemp)\r\n",
        "    elif k[0] == 'difference_update':\r\n",
        "        A.difference_update(ktemp)\r\n",
        "    elif k[0] == 'symmetric_difference_update':\r\n",
        "        A.symmetric_difference_update(ktemp)\r\n",
        "    else:\r\n",
        "        print (\"Incorrect parameters\")\r\n",
        "print(sum(A))\r\n"
      ],
      "outputs": [],
      "metadata": {}
    },
    {
      "cell_type": "markdown",
      "source": [
        "**Check Subset**"
      ],
      "metadata": {}
    },
    {
      "cell_type": "code",
      "execution_count": null,
      "source": [
        "c=int(input())\r\n",
        "for i in range(c):\r\n",
        "    a=int(input())\r\n",
        "    A=set(map(int,input().split()))\r\n",
        "    b=int(input())\r\n",
        "    B=set(map(int,input().split()))\r\n",
        "    if (b<a):\r\n",
        "        print(\"False\")\r\n",
        "    else:\r\n",
        "        print(A.issubset(B))    "
      ],
      "outputs": [],
      "metadata": {}
    },
    {
      "cell_type": "markdown",
      "source": [
        "**Class 2 - Find the Torsional Angle**"
      ],
      "metadata": {}
    },
    {
      "cell_type": "code",
      "execution_count": null,
      "source": [
        "\r\n",
        "class Points(object):\r\n",
        "    def __init__(self, x, y, z):\r\n",
        "        self.x=x\r\n",
        "        self.y=y\r\n",
        "        self.z=z\r\n",
        "\r\n",
        "    def __sub__(self, no):\r\n",
        "        return  Points((self.x-no.x),(self.y-no.y),(self.z-no.z))\r\n",
        "\r\n",
        "    def dot(self, no):\r\n",
        "        return (self.x*no.x)+(self.y*no.y)+(self.z*no.z)\r\n",
        "\r\n",
        "    def cross(self, no):\r\n",
        "        return Points((self.y*no.z-self.z*no.y),(self.z*no.x-self.x*no.z),(self.x*no.y-self.y*no.x))\r\n",
        "        \r\n",
        "    def absolute(self):\r\n",
        "        return pow((self.x ** 2 + self.y ** 2 + self.z ** 2), 0.5)"
      ],
      "outputs": [],
      "metadata": {}
    }
  ]
}